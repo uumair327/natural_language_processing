{
  "nbformat": 4,
  "nbformat_minor": 0,
  "metadata": {
    "colab": {
      "provenance": [],
      "authorship_tag": "ABX9TyNeg9mL2JlmKeB7WlJ0VWb1",
      "include_colab_link": true
    },
    "kernelspec": {
      "name": "python3",
      "display_name": "Python 3"
    },
    "language_info": {
      "name": "python"
    }
  },
  "cells": [
    {
      "cell_type": "markdown",
      "metadata": {
        "id": "view-in-github",
        "colab_type": "text"
      },
      "source": [
        "<a href=\"https://colab.research.google.com/github/uumair327/natural_language_processing/blob/main/NLP06.ipynb\" target=\"_parent\"><img src=\"https://colab.research.google.com/assets/colab-badge.svg\" alt=\"Open In Colab\"/></a>"
      ]
    },
    {
      "cell_type": "code",
      "execution_count": 7,
      "metadata": {
        "colab": {
          "base_uri": "https://localhost:8080/"
        },
        "id": "zzCc_BR_heOE",
        "outputId": "721ee566-7ee4-4eaa-823d-a6bae1a4893d"
      },
      "outputs": [
        {
          "output_type": "stream",
          "name": "stdout",
          "text": [
            "Requirement already satisfied: nltk in /usr/local/lib/python3.10/dist-packages (3.8.1)\n",
            "Requirement already satisfied: click in /usr/local/lib/python3.10/dist-packages (from nltk) (8.1.7)\n",
            "Requirement already satisfied: joblib in /usr/local/lib/python3.10/dist-packages (from nltk) (1.4.2)\n",
            "Requirement already satisfied: regex>=2021.8.3 in /usr/local/lib/python3.10/dist-packages (from nltk) (2024.9.11)\n",
            "Requirement already satisfied: tqdm in /usr/local/lib/python3.10/dist-packages (from nltk) (4.66.5)\n"
          ]
        }
      ],
      "source": [
        "!pip install nltk"
      ]
    },
    {
      "cell_type": "code",
      "source": [
        "import nltk\n",
        "from nltk.util import ngrams\n",
        "from collections import defaultdict, Counter\n",
        "import random"
      ],
      "metadata": {
        "id": "LAwYXYk3iu_S"
      },
      "execution_count": 22,
      "outputs": []
    },
    {
      "cell_type": "code",
      "source": [
        "# Sample Text Input\n",
        "text = \"\"\"\n",
        "Natural language processing is a field of artificial intelligence.\n",
        "It involves the interaction between computers and humans using natural language.\n",
        "The goal is to enable computers to understand, interpret, and generate human languages.\n",
        "\"\"\""
      ],
      "metadata": {
        "id": "U009UnSeiz9b"
      },
      "execution_count": 23,
      "outputs": []
    },
    {
      "cell_type": "code",
      "source": [
        "# Tokenize the text into words\n",
        "words = nltk.word_tokenize(text.lower())"
      ],
      "metadata": {
        "id": "1tw1gW4Gi13d"
      },
      "execution_count": 32,
      "outputs": []
    },
    {
      "cell_type": "code",
      "source": [
        "# Generate trigrams\n",
        "trigrams = list(ngrams(words, 3))"
      ],
      "metadata": {
        "id": "gTV1opygnVzl"
      },
      "execution_count": 33,
      "outputs": []
    },
    {
      "cell_type": "code",
      "source": [
        "# Create a default dictionary to hold the trigram frequencies\n",
        "trigram_model = defaultdict(Counter)"
      ],
      "metadata": {
        "id": "EorUqu_ui32-"
      },
      "execution_count": 34,
      "outputs": []
    },
    {
      "cell_type": "code",
      "source": [
        "# Populate the model with trigram counts\n",
        "for w1, w2, w3 in trigrams:\n",
        "    trigram_model[(w1, w2)][w3] += 1"
      ],
      "metadata": {
        "id": "hWJPxLhAi6An"
      },
      "execution_count": 35,
      "outputs": []
    },
    {
      "cell_type": "code",
      "source": [
        "# Function to predict the next word along with probabilities\n",
        "def predict_next_word_with_probabilities(trigram_model, word1, word2):\n",
        "    # Get possible next words for the given bigram (word1, word2)\n",
        "    possible_next_words = trigram_model[(word1, word2)]\n",
        "\n",
        "    if not possible_next_words:\n",
        "        return \"No prediction available\", {}\n",
        "\n",
        "    # Calculate total count for normalization\n",
        "    total_count = sum(possible_next_words.values())\n",
        "\n",
        "    # Calculate probabilities for each next word\n",
        "    word_probabilities = {word: count / total_count for word, count in possible_next_words.items()}\n",
        "\n",
        "    # Get the word with the highest probability\n",
        "    predicted_word = max(word_probabilities, key=word_probabilities.get)\n",
        "\n",
        "    return predicted_word, word_probabilities"
      ],
      "metadata": {
        "id": "jRI-vgWgntm7"
      },
      "execution_count": 36,
      "outputs": []
    },
    {
      "cell_type": "code",
      "source": [
        "# Example usage to predict the next word and its probabilities for the bigram 'natural language'\n",
        "word1, word2 = 'natural', 'language'\n",
        "predicted_word, probabilities = predict_next_word_with_probabilities(trigram_model, word1, word2)\n",
        "\n",
        "# Display results\n",
        "print(f\"The predicted next word after '{word1} {word2}' is '{predicted_word}'.\")\n",
        "print(\"Probabilities of possible next words:\")\n",
        "for word, prob in probabilities.items():\n",
        "    print(f\"{word}: {prob:.4f}\")"
      ],
      "metadata": {
        "colab": {
          "base_uri": "https://localhost:8080/"
        },
        "id": "H_P245g8oPSZ",
        "outputId": "a0d3cb2c-55ba-496d-98c1-00086e572e96"
      },
      "execution_count": 42,
      "outputs": [
        {
          "output_type": "stream",
          "name": "stdout",
          "text": [
            "The predicted next word after 'natural language' is 'processing'.\n",
            "Probabilities of possible next words:\n",
            "processing: 0.5000\n",
            ".: 0.5000\n"
          ]
        }
      ]
    },
    {
      "cell_type": "code",
      "source": [],
      "metadata": {
        "id": "fMMsEju3n4YC"
      },
      "execution_count": null,
      "outputs": []
    }
  ]
}