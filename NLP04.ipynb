{
  "nbformat": 4,
  "nbformat_minor": 0,
  "metadata": {
    "colab": {
      "provenance": [],
      "authorship_tag": "ABX9TyNmYIMpowKgcDBBJkDlqLRc",
      "include_colab_link": true
    },
    "kernelspec": {
      "name": "python3",
      "display_name": "Python 3"
    },
    "language_info": {
      "name": "python"
    }
  },
  "cells": [
    {
      "cell_type": "markdown",
      "metadata": {
        "id": "view-in-github",
        "colab_type": "text"
      },
      "source": [
        "<a href=\"https://colab.research.google.com/github/uumair327/natural_language_processing/blob/main/NLP04.ipynb\" target=\"_parent\"><img src=\"https://colab.research.google.com/assets/colab-badge.svg\" alt=\"Open In Colab\"/></a>"
      ]
    },
    {
      "cell_type": "markdown",
      "source": [
        "**NLP04**"
      ],
      "metadata": {
        "id": "QGNSzXxCSAT7"
      }
    },
    {
      "cell_type": "markdown",
      "source": [
        "**Import necessary libraries**"
      ],
      "metadata": {
        "id": "mjhUqo4QTz6C"
      }
    },
    {
      "cell_type": "code",
      "source": [
        "import re\n",
        "import nltk\n",
        "from nltk.stem import PorterStemmer, WordNetLemmatizer\n",
        "from nltk.corpus import wordnet\n"
      ],
      "metadata": {
        "id": "JJecXcWtRzAj"
      },
      "execution_count": 21,
      "outputs": []
    },
    {
      "cell_type": "markdown",
      "source": [
        "**Download NLTK data**"
      ],
      "metadata": {
        "id": "sdeu_suiTuX4"
      }
    },
    {
      "cell_type": "code",
      "source": [
        "nltk.download('wordnet')\n",
        "nltk.download('averaged_perceptron_tagger')\n",
        "nltk.download('punkt')\n"
      ],
      "metadata": {
        "colab": {
          "base_uri": "https://localhost:8080/"
        },
        "collapsed": true,
        "id": "-F4Ru1wwR0QI",
        "outputId": "818a9bcb-6158-4681-e455-16db635e9877"
      },
      "execution_count": 22,
      "outputs": [
        {
          "output_type": "stream",
          "name": "stderr",
          "text": [
            "[nltk_data] Downloading package wordnet to /root/nltk_data...\n",
            "[nltk_data]   Package wordnet is already up-to-date!\n",
            "[nltk_data] Downloading package averaged_perceptron_tagger to\n",
            "[nltk_data]     /root/nltk_data...\n",
            "[nltk_data]   Package averaged_perceptron_tagger is already up-to-\n",
            "[nltk_data]       date!\n",
            "[nltk_data] Downloading package punkt to /root/nltk_data...\n",
            "[nltk_data]   Package punkt is already up-to-date!\n"
          ]
        },
        {
          "output_type": "execute_result",
          "data": {
            "text/plain": [
              "True"
            ]
          },
          "metadata": {},
          "execution_count": 22
        }
      ]
    },
    {
      "cell_type": "markdown",
      "source": [
        "**Sample text for analysis**"
      ],
      "metadata": {
        "id": "N-I3LDWrT4w8"
      }
    },
    {
      "cell_type": "code",
      "source": [
        "text = \"\"\"\n",
        "    Contact us at support@example.com on 12th August 2024 at 10:30 AM.\n",
        "    The total cost is $1,500.50. System number is SYS1234-ABCD.\n",
        "\"\"\""
      ],
      "metadata": {
        "id": "2aXs6i2qR17P"
      },
      "execution_count": 23,
      "outputs": []
    },
    {
      "cell_type": "markdown",
      "source": [
        "**Morphological Analysis: Inflectional and Derivational**"
      ],
      "metadata": {
        "id": "6fxmXsY_T955"
      }
    },
    {
      "cell_type": "code",
      "source": [
        "def morphological_analysis(word):\n",
        "    lem = WordNetLemmatizer()\n",
        "    stem = PorterStemmer()\n",
        "    lemmatized_word = lem.lemmatize(word)\n",
        "    stemmed_word = stem.stem(word)\n",
        "    return lemmatized_word, stemmed_word"
      ],
      "metadata": {
        "id": "0AUiu7wuR3Ww"
      },
      "execution_count": 24,
      "outputs": []
    },
    {
      "cell_type": "markdown",
      "source": [
        "**Tokenize text**"
      ],
      "metadata": {
        "id": "nm0Kjcb2UAww"
      }
    },
    {
      "cell_type": "code",
      "source": [
        "tokens = nltk.word_tokenize(text)"
      ],
      "metadata": {
        "id": "Zk3JACOfR4ig"
      },
      "execution_count": 25,
      "outputs": []
    },
    {
      "cell_type": "markdown",
      "source": [
        "**Analyze each word**"
      ],
      "metadata": {
        "id": "Q8wNdgm1UDTp"
      }
    },
    {
      "cell_type": "code",
      "source": [
        "for word in tokens:\n",
        "    lemmatized_word, stemmed_word = morphological_analysis(word)\n",
        "    print(f\"Word: {word}, Lemmatized: {lemmatized_word}, Stemmed: {stemmed_word}\")"
      ],
      "metadata": {
        "colab": {
          "base_uri": "https://localhost:8080/"
        },
        "collapsed": true,
        "id": "EXYHpDmJR54J",
        "outputId": "ba924787-3daf-4e6c-eed7-0a9936e03a5b"
      },
      "execution_count": 26,
      "outputs": [
        {
          "output_type": "stream",
          "name": "stdout",
          "text": [
            "Word: Contact, Lemmatized: Contact, Stemmed: contact\n",
            "Word: us, Lemmatized: u, Stemmed: us\n",
            "Word: at, Lemmatized: at, Stemmed: at\n",
            "Word: support, Lemmatized: support, Stemmed: support\n",
            "Word: @, Lemmatized: @, Stemmed: @\n",
            "Word: example.com, Lemmatized: example.com, Stemmed: example.com\n",
            "Word: on, Lemmatized: on, Stemmed: on\n",
            "Word: 12th, Lemmatized: 12th, Stemmed: 12th\n",
            "Word: August, Lemmatized: August, Stemmed: august\n",
            "Word: 2024, Lemmatized: 2024, Stemmed: 2024\n",
            "Word: at, Lemmatized: at, Stemmed: at\n",
            "Word: 10:30, Lemmatized: 10:30, Stemmed: 10:30\n",
            "Word: AM, Lemmatized: AM, Stemmed: am\n",
            "Word: ., Lemmatized: ., Stemmed: .\n",
            "Word: The, Lemmatized: The, Stemmed: the\n",
            "Word: total, Lemmatized: total, Stemmed: total\n",
            "Word: cost, Lemmatized: cost, Stemmed: cost\n",
            "Word: is, Lemmatized: is, Stemmed: is\n",
            "Word: $, Lemmatized: $, Stemmed: $\n",
            "Word: 1,500.50, Lemmatized: 1,500.50, Stemmed: 1,500.50\n",
            "Word: ., Lemmatized: ., Stemmed: .\n",
            "Word: System, Lemmatized: System, Stemmed: system\n",
            "Word: number, Lemmatized: number, Stemmed: number\n",
            "Word: is, Lemmatized: is, Stemmed: is\n",
            "Word: SYS1234-ABCD, Lemmatized: SYS1234-ABCD, Stemmed: sys1234-abcd\n",
            "Word: ., Lemmatized: ., Stemmed: .\n"
          ]
        }
      ]
    },
    {
      "cell_type": "markdown",
      "source": [
        "**Regular Expressions to detect and extract**"
      ],
      "metadata": {
        "id": "IrdtkzLqUHVi"
      }
    },
    {
      "cell_type": "code",
      "source": [
        "email_pattern = r'[a-zA-Z0-9._%+-]+@[a-zA-Z0-9.-]+\\.[a-zA-Z]{2,}'\n",
        "datetime_pattern = r'\\b\\d{1,2}(?:th|st|nd|rd)?\\s+\\w+\\s+\\d{4}\\s+at\\s+\\d{1,2}:\\d{2}\\s+[APMapm]{2}\\b'\n",
        "currency_pattern = r'\\$\\d{1,3}(?:,\\d{3})*(?:\\.\\d{2})?'\n",
        "system_number_pattern = r'SYS\\d{4}-[A-Z]{4}'"
      ],
      "metadata": {
        "id": "Y6k3LVVWR7JR"
      },
      "execution_count": 27,
      "outputs": []
    },
    {
      "cell_type": "markdown",
      "source": [
        "**Extract email IDs**"
      ],
      "metadata": {
        "id": "6DIbf8DXULmr"
      }
    },
    {
      "cell_type": "code",
      "source": [
        "emails = re.findall(email_pattern, text)\n",
        "print(\"\\nEmail IDs found:\")\n",
        "for email in emails:\n",
        "    print(email)"
      ],
      "metadata": {
        "colab": {
          "base_uri": "https://localhost:8080/"
        },
        "id": "MXCjiknKSDEj",
        "outputId": "1757b348-7266-45f1-d8cc-0fcc79036071"
      },
      "execution_count": 28,
      "outputs": [
        {
          "output_type": "stream",
          "name": "stdout",
          "text": [
            "\n",
            "Email IDs found:\n",
            "support@example.com\n"
          ]
        }
      ]
    },
    {
      "cell_type": "markdown",
      "source": [
        "**Extract date-time values**"
      ],
      "metadata": {
        "id": "2bL1W5SMUOjy"
      }
    },
    {
      "cell_type": "code",
      "source": [
        "date_times = re.findall(datetime_pattern, text)\n",
        "print(\"\\nDate-Time values found:\")\n",
        "for date_time in date_times:\n",
        "    print(date_time)"
      ],
      "metadata": {
        "colab": {
          "base_uri": "https://localhost:8080/"
        },
        "id": "XtDICrTVSEQx",
        "outputId": "c1c4e4c1-102b-4b50-b243-28564dc1c787"
      },
      "execution_count": 29,
      "outputs": [
        {
          "output_type": "stream",
          "name": "stdout",
          "text": [
            "\n",
            "Date-Time values found:\n",
            "12th August 2024 at 10:30 AM\n"
          ]
        }
      ]
    },
    {
      "cell_type": "markdown",
      "source": [
        "**Extract currency amounts**"
      ],
      "metadata": {
        "id": "NYVOkz-YURUx"
      }
    },
    {
      "cell_type": "code",
      "source": [
        "currencies = re.findall(currency_pattern, text)\n",
        "print(\"\\nCurrency amounts found:\")\n",
        "for currency in currencies:\n",
        "    print(currency)"
      ],
      "metadata": {
        "colab": {
          "base_uri": "https://localhost:8080/"
        },
        "id": "CsMVhZz9SGEa",
        "outputId": "9197bed2-f14a-4bd4-88ef-6e0945f649f0"
      },
      "execution_count": 30,
      "outputs": [
        {
          "output_type": "stream",
          "name": "stdout",
          "text": [
            "\n",
            "Currency amounts found:\n",
            "$1,500.50\n"
          ]
        }
      ]
    },
    {
      "cell_type": "markdown",
      "source": [
        "**Extract system numbers**"
      ],
      "metadata": {
        "id": "MLPz8NYbUTvp"
      }
    },
    {
      "cell_type": "code",
      "source": [
        "system_numbers = re.findall(system_number_pattern, text)\n",
        "print(\"\\nSystem numbers found:\")\n",
        "for system_number in system_numbers:\n",
        "    print(system_number)"
      ],
      "metadata": {
        "colab": {
          "base_uri": "https://localhost:8080/"
        },
        "id": "JQzgA0-BQa5p",
        "outputId": "f9ca0076-a594-4339-8b0b-33105cfb8130"
      },
      "execution_count": 31,
      "outputs": [
        {
          "output_type": "stream",
          "name": "stdout",
          "text": [
            "\n",
            "System numbers found:\n",
            "SYS1234-ABCD\n"
          ]
        }
      ]
    },
    {
      "cell_type": "code",
      "source": [],
      "metadata": {
        "id": "LtovXA7vRgAy"
      },
      "execution_count": 31,
      "outputs": []
    }
  ]
}